{
  "nbformat": 4,
  "nbformat_minor": 0,
  "metadata": {
    "colab": {
      "name": "Tubes SA_Kelompok12_RatInMaze.ipynb",
      "provenance": [],
      "collapsed_sections": []
    },
    "kernelspec": {
      "name": "python3",
      "display_name": "Python 3"
    },
    "language_info": {
      "name": "python"
    }
  },
  "cells": [
    {
      "cell_type": "code",
      "source": [
        "import time\n",
        "import itertools"
      ],
      "metadata": {
        "id": "o4wmNJWfHKRu"
      },
      "execution_count": 1,
      "outputs": []
    },
    {
      "cell_type": "code",
      "source": [
        "# Print maze (agar bentuknya rapih)\n",
        "def printSolution( sol ):\n",
        "  for i in sol:\n",
        "    for j in i:\n",
        "      print(str(j) + \" \", end =\"\")\n",
        "    print(\"\")"
      ],
      "metadata": {
        "id": "e54AAQBNHLhv"
      },
      "execution_count": 2,
      "outputs": []
    },
    {
      "cell_type": "code",
      "source": [
        "# Melakukan pengecekan apakah x,y valid\n",
        "# untuk index N x N Maze\n",
        "def isSafe( maze, x, y ): \n",
        "  if x >= 0 and x < N and y >= 0 and y < N and maze[x][y] == 1:\n",
        "    return True\n",
        "       \n",
        "  return False"
      ],
      "metadata": {
        "id": "2wdryxaFHVrE"
      },
      "execution_count": 3,
      "outputs": []
    },
    {
      "cell_type": "code",
      "source": [
        "# Fungsi rekursif untuk mencari jalan keluar (mencari solusi)\n",
        "def solveMazeUtil(maze, x, y, sol, N):\n",
        "  # jika(x, y adalah tujuan (rute keluar berada di pojok kanan bawah (N-1, N-1))) mengembalikan true\n",
        "  if x == N - 1 and y == N - 1 and maze[x][y]== 1:\n",
        "    sol[x][y] = 1\n",
        "    return True\n",
        "         \n",
        "  # Check apakah maze[x][y] valid ?\n",
        "  if isSafe(maze, x, y) == True:\n",
        "    # Apakah blok yang saat ini ditempati sudah menjadi solusi (dilakukan pengecekan pada list sol)\n",
        "    if sol[x][y] == 1:\n",
        "      return False\n",
        "           \n",
        "    # Menandai jalur yang sedang dilalui dengan 1 (1 : jadi jalur solusi, 0 : bukan jalur solusi)\n",
        "    sol[x][y] = 1\n",
        "         \n",
        "    # Maju ke arah x \n",
        "    if solveMazeUtil(maze, x + 1, y, sol, N) == True:\n",
        "      return True\n",
        "          \n",
        "    # Jika bergerak dalam arah x tidak memberikan solusi maka Bergerak ke bawah dalam arah y\n",
        "    if solveMazeUtil(maze, x, y + 1, sol, N) == True:\n",
        "      return True\n",
        "        \n",
        "    # Jika bergerak ke arah y tidak memberikan solusi maka Kembali ke arah x\n",
        "    if solveMazeUtil(maze, x - 1, y, sol, N) == True:\n",
        "      return True\n",
        "          \n",
        "    # Jika bergerak mundur dalam arah x tidak memberikan solusi maka Bergerak ke atas dalam arah y\n",
        "    if solveMazeUtil(maze, x, y - 1, sol, N) == True:\n",
        "      return True\n",
        "      \n",
        "    # Jika tidak ada gerakan di atas yang berhasil maka\n",
        "    # BACKTRACK: hapus tanda x, y sebagai bagian dari jalur solusi\n",
        "    sol[x][y] = 0\n",
        "    return False"
      ],
      "metadata": {
        "id": "FXDwugmyHuzE"
      },
      "execution_count": 4,
      "outputs": []
    },
    {
      "cell_type": "code",
      "source": [
        "\"\"\" Fungsi mengembalikan false jika tidak ada jalur yang memungkinkan, jika ada melakukan penelusuran rute, dan jika jalur buntu akan melakukan backtracking \"\"\"\n",
        "def solveMaze( maze, N):\n",
        "  # Membuat NxN 2D list\n",
        "  sol = [ [ 0 for j in range(N) ] for i in range(N) ]\n",
        "     \n",
        "  if solveMazeUtil(maze, 0, 0, sol, N) == False:\n",
        "    print(\"Solusi Tidak tersedia\")\n",
        "    return False\n",
        "  #print(sum([sum(i) for i in zip(*sol)]))\n",
        "  \n",
        "  print(\"With Backtracking Algorithm\")\n",
        "  printSolution(sol)\n",
        "  return True"
      ],
      "metadata": {
        "id": "7oFsrDOgHcqe"
      },
      "execution_count": 5,
      "outputs": []
    },
    {
      "cell_type": "code",
      "source": [
        "def sum_path(path):\n",
        "  return sum([sum(i) for i in zip(*path)])"
      ],
      "metadata": {
        "id": "lS2JnsM2HsvG"
      },
      "execution_count": 6,
      "outputs": []
    },
    {
      "cell_type": "code",
      "source": [
        "# Melakukan filtering untuk blok x,y yang bernilai 1 pada solusi, tetapi pada maze bernilai 0\n",
        "def isAccepted(maze, solution):\n",
        "  for i in range(len(maze)):\n",
        "    for j in range(len(maze[i])):\n",
        "      if maze[i][j] == 0:\n",
        "        if solution[i][j] == 1:\n",
        "          return False\n",
        "  return True"
      ],
      "metadata": {
        "id": "JbkqcSNRIPyZ"
      },
      "execution_count": 7,
      "outputs": []
    },
    {
      "cell_type": "code",
      "source": [
        "# Melakukan pengecekan apakah rute start terhubung dengan jalur keluar\n",
        "def isAccepted2(solution, N):\n",
        "  sol = [ [ 0 for j in range(N) ] for i in range(N) ]\n",
        "  return solveMazeUtil(solution, 0, 0, sol, N)"
      ],
      "metadata": {
        "id": "K_ng0agMIZag"
      },
      "execution_count": 8,
      "outputs": []
    },
    {
      "cell_type": "code",
      "source": [
        "def solveWithBF(maze, N):\n",
        "  list_of_solution = []\n",
        "  for i in itertools.product([0, 1], repeat=N*N):\n",
        "    sol= [list(i)[x:x+N] for x in range(0, len(list(i)), N)]\n",
        "    if isAccepted(maze, sol) and isAccepted2(sol, N):\n",
        "      list_of_solution.append(sol)\n",
        "  \n",
        "  sorted(list_of_solution, key=sum_path)\n",
        "  print(\"With Bruteforce Algorithm\")\n",
        "  printSolution(list_of_solution[0])"
      ],
      "metadata": {
        "id": "FjBKOS1mIcuu"
      },
      "execution_count": 9,
      "outputs": []
    },
    {
      "cell_type": "code",
      "execution_count": null,
      "metadata": {
        "colab": {
          "base_uri": "https://localhost:8080/"
        },
        "id": "LeF6Gjh2G1SB",
        "outputId": "34c64d5d-c77b-4134-b173-de1ae09e18ec"
      },
      "outputs": [
        {
          "output_type": "stream",
          "name": "stdout",
          "text": [
            "Maze 1:\n",
            "1 1 1 1 \n",
            "0 1 0 1 \n",
            "0 1 0 0 \n",
            "1 1 1 1 \n",
            "\n",
            "Test Case 1\n",
            "With Backtracking Algorithm\n",
            "1 1 0 0 \n",
            "0 1 0 0 \n",
            "0 1 0 0 \n",
            "0 1 1 1 \n",
            "--- 0.0008821487426757812 seconds ---\n",
            "With Bruteforce Algorithm\n",
            "1 1 0 0 \n",
            "0 1 0 0 \n",
            "0 1 0 0 \n",
            "0 1 1 1 \n",
            "--- 0.5656101703643799 seconds ---\n",
            "============================================\n",
            "\n",
            "Maze 2:\n",
            "1 1 0 1 \n",
            "0 1 1 1 \n",
            "0 0 1 0 \n",
            "1 1 1 1 \n",
            "\n",
            "Test Case 2\n",
            "With Backtracking Algorithm\n",
            "1 1 0 0 \n",
            "0 1 1 0 \n",
            "0 0 1 0 \n",
            "0 0 1 1 \n",
            "--- 0.004647970199584961 seconds ---\n",
            "With Bruteforce Algorithm\n",
            "1 1 0 0 \n",
            "0 1 1 0 \n",
            "0 0 1 0 \n",
            "0 0 1 1 \n",
            "--- 0.4777987003326416 seconds ---\n",
            "============================================\n",
            "\n",
            "Maze 3:\n",
            "1 1 0 1 0 \n",
            "0 1 1 1 0 \n",
            "0 0 0 1 1 \n",
            "0 1 1 1 0 \n",
            "0 0 0 1 1 \n",
            "\n",
            "Test Case 3\n",
            "With Backtracking Algorithm\n",
            "1 1 0 0 0 \n",
            "0 1 1 1 0 \n",
            "0 0 0 1 0 \n",
            "0 0 0 1 0 \n",
            "0 0 0 1 1 \n",
            "--- 0.0019371509552001953 seconds ---\n",
            "With Bruteforce Algorithm\n",
            "1 1 0 0 0 \n",
            "0 1 1 1 0 \n",
            "0 0 0 1 0 \n",
            "0 0 0 1 0 \n",
            "0 0 0 1 1 \n",
            "--- 138.53693962097168 seconds ---\n",
            "============================================\n",
            "Maze 4:\n",
            "1 1 1 1 1 \n",
            "0 0 0 1 0 \n",
            "1 1 1 1 1 \n",
            "1 0 1 0 0 \n",
            "1 1 1 1 1 \n",
            "\n",
            "Test Case 4\n",
            "With Backtracking Algorithm\n",
            "1 1 1 1 0 \n",
            "0 0 0 1 0 \n",
            "0 0 1 1 0 \n",
            "0 0 1 0 0 \n",
            "0 0 1 1 1 \n",
            "--- 0.0018537044525146484 seconds ---\n"
          ]
        }
      ],
      "source": [
        "# Ukuran Maze\n",
        "N = 4\n",
        "\n",
        "# Test Case1\n",
        "maze = [[1, 1, 1, 1],\n",
        "        [0, 1, 0, 1],\n",
        "        [0, 1, 0, 0],\n",
        "        [1, 1, 1, 1] ]\n",
        "print(\"Maze 1:\")\n",
        "printSolution(maze)\n",
        "print()\n",
        "start_time = time.time()\n",
        "print(\"Test Case 1\")\n",
        "solveMaze(maze, N)\n",
        "print(\"--- %s seconds ---\" % (time.time() - start_time))\n",
        "\n",
        "start_time = time.time()\n",
        "solveWithBF(maze, N)\n",
        "print(\"--- %s seconds ---\" % (time.time() - start_time))\n",
        "print(\"============================================\")\n",
        "print()\n",
        "\n",
        "\n",
        "# Test Case2\n",
        "maze = [[1, 1, 0, 1],\n",
        "        [0, 1, 1, 1],\n",
        "        [0, 0, 1, 0],\n",
        "        [1, 1, 1, 1]]\n",
        "print(\"Maze 2:\")\n",
        "printSolution(maze)\n",
        "print()\n",
        "start_time = time.time()\n",
        "print(\"Test Case 2\")\n",
        "solveMaze(maze, N)\n",
        "print(\"--- %s seconds ---\" % (time.time() - start_time))\n",
        "\n",
        "start_time = time.time()\n",
        "solveWithBF(maze, N)\n",
        "print(\"--- %s seconds ---\" % (time.time() - start_time))\n",
        "print(\"============================================\")\n",
        "print()\n",
        "\n",
        "\n",
        "# Test Case3\n",
        "N = 5\n",
        "maze = [[1, 1, 0, 1, 0],\n",
        "        [0, 1, 1, 1, 0],\n",
        "        [0, 0, 0, 1, 1],\n",
        "        [0, 1, 1, 1, 0],\n",
        "        [0, 0, 0, 1, 1]]\n",
        "print(\"Maze 3:\")\n",
        "printSolution(maze)\n",
        "print()\n",
        "start_time = time.time()\n",
        "print(\"Test Case 3\")\n",
        "solveMaze(maze, N)\n",
        "print(\"--- %s seconds ---\" % (time.time() - start_time))\n",
        "\n",
        "start_time = time.time()\n",
        "solveWithBF(maze, N)\n",
        "print(\"--- %s seconds ---\" % (time.time() - start_time))\n",
        "print(\"============================================\")\n",
        "\n",
        "\n",
        "# Test Case4\n",
        "N = 5\n",
        "maze = [[1, 1, 1, 1, 1],\n",
        "        [0, 0, 0, 1, 0],\n",
        "        [1, 1, 1, 1, 1],\n",
        "        [1, 0, 1, 0, 0],\n",
        "        [1, 1, 1, 1, 1]]\n",
        "print(\"Maze 4:\")\n",
        "printSolution(maze)\n",
        "print()\n",
        "start_time = time.time()\n",
        "print(\"Test Case 4\")\n",
        "solveMaze(maze, N)\n",
        "print(\"--- %s seconds ---\" % (time.time() - start_time))\n",
        "\n",
        "start_time = time.time()\n",
        "solveWithBF(maze, N)\n",
        "print(\"--- %s seconds ---\" % (time.time() - start_time))\n",
        "print(\"============================================\")"
      ]
    },
    {
      "cell_type": "code",
      "source": [
        "maze = [[0,0],\n",
        "        [0,0]]\n",
        "print(\"Initial(step 0):\")\n",
        "printSolution(maze)\n",
        "\n",
        "\n",
        "maze = [[0,1],\n",
        "        [0,0]]\n",
        "print(\"Step 1:\")\n",
        "printSolution(maze)\n",
        "\n",
        "\n",
        "maze = [[1,0],\n",
        "        [0,0]]\n",
        "print(\"Step 2:\")\n",
        "printSolution(maze)\n",
        "\n",
        "\n",
        "maze = [[1,1],\n",
        "        [0,0]]\n",
        "print(\"Step 3:\")\n",
        "printSolution(maze)\n",
        "\n",
        "\n",
        "print(\".\")\n",
        "print(\".\")\n",
        "print(\".\")\n",
        "\n",
        "maze = [[1,1],\n",
        "        [1,1]]\n",
        "print(\"Last Step :\")\n",
        "printSolution(maze)\n",
        "\n"
      ],
      "metadata": {
        "id": "uOPMcdiLHHmC"
      },
      "execution_count": null,
      "outputs": []
    }
  ]
}